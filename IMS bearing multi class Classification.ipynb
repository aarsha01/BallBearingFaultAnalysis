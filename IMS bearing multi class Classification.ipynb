{
 "cells": [
  {
   "cell_type": "markdown",
   "metadata": {},
   "source": [
    "# ------------------------------- Classification of Faults ---------------------------------"
   ]
  },
  {
   "cell_type": "code",
   "execution_count": 5,
   "metadata": {},
   "outputs": [],
   "source": [
    "import matplotlib.pyplot as plt\n",
    "import numpy as np\n",
    "import pandas as pd\n",
    "import seaborn as sns"
   ]
  },
  {
   "cell_type": "code",
   "execution_count": 61,
   "metadata": {},
   "outputs": [],
   "source": [
    "df1=pd.read_csv('Normal_Bearing.csv')\n",
    "df2=pd.read_csv('outer_race_fault_test_2.csv')\n",
    "df3=pd.read_csv('outer_race_fault_test_3.csv')\n",
    "df4=pd.read_csv('inner_race_fault.csv')\n",
    "df5=pd.read_csv('roller_element_fault.csv')"
   ]
  },
  {
   "cell_type": "code",
   "execution_count": 62,
   "metadata": {},
   "outputs": [
    {
     "data": {
      "text/html": [
       "<div>\n",
       "<style scoped>\n",
       "    .dataframe tbody tr th:only-of-type {\n",
       "        vertical-align: middle;\n",
       "    }\n",
       "\n",
       "    .dataframe tbody tr th {\n",
       "        vertical-align: top;\n",
       "    }\n",
       "\n",
       "    .dataframe thead th {\n",
       "        text-align: right;\n",
       "    }\n",
       "</style>\n",
       "<table border=\"1\" class=\"dataframe\">\n",
       "  <thead>\n",
       "    <tr style=\"text-align: right;\">\n",
       "      <th></th>\n",
       "      <th>Max</th>\n",
       "      <th>Min</th>\n",
       "      <th>Mean</th>\n",
       "      <th>Std</th>\n",
       "      <th>RMS</th>\n",
       "      <th>Skewness</th>\n",
       "      <th>Kurtosis</th>\n",
       "      <th>Crest Factor</th>\n",
       "      <th>Form Factor</th>\n",
       "      <th>Fault</th>\n",
       "    </tr>\n",
       "  </thead>\n",
       "  <tbody>\n",
       "    <tr>\n",
       "      <th>0</th>\n",
       "      <td>0.422</td>\n",
       "      <td>-0.657</td>\n",
       "      <td>-0.117744</td>\n",
       "      <td>0.093095</td>\n",
       "      <td>0.150100</td>\n",
       "      <td>-0.033307</td>\n",
       "      <td>0.876667</td>\n",
       "      <td>2.811460</td>\n",
       "      <td>-1.274798</td>\n",
       "      <td>Normal</td>\n",
       "    </tr>\n",
       "    <tr>\n",
       "      <th>1</th>\n",
       "      <td>0.466</td>\n",
       "      <td>-0.605</td>\n",
       "      <td>-0.116695</td>\n",
       "      <td>0.091405</td>\n",
       "      <td>0.148230</td>\n",
       "      <td>0.022064</td>\n",
       "      <td>0.946745</td>\n",
       "      <td>3.143757</td>\n",
       "      <td>-1.270240</td>\n",
       "      <td>Normal</td>\n",
       "    </tr>\n",
       "    <tr>\n",
       "      <th>2</th>\n",
       "      <td>0.356</td>\n",
       "      <td>-0.713</td>\n",
       "      <td>-0.117174</td>\n",
       "      <td>0.094340</td>\n",
       "      <td>0.150430</td>\n",
       "      <td>-0.088984</td>\n",
       "      <td>0.858388</td>\n",
       "      <td>2.366546</td>\n",
       "      <td>-1.283821</td>\n",
       "      <td>Normal</td>\n",
       "    </tr>\n",
       "    <tr>\n",
       "      <th>3</th>\n",
       "      <td>0.500</td>\n",
       "      <td>-0.647</td>\n",
       "      <td>-0.117876</td>\n",
       "      <td>0.093033</td>\n",
       "      <td>0.150165</td>\n",
       "      <td>-0.036459</td>\n",
       "      <td>0.957214</td>\n",
       "      <td>3.329671</td>\n",
       "      <td>-1.273921</td>\n",
       "      <td>Normal</td>\n",
       "    </tr>\n",
       "    <tr>\n",
       "      <th>4</th>\n",
       "      <td>0.479</td>\n",
       "      <td>-0.659</td>\n",
       "      <td>-0.116594</td>\n",
       "      <td>0.093409</td>\n",
       "      <td>0.149395</td>\n",
       "      <td>-0.002756</td>\n",
       "      <td>1.290804</td>\n",
       "      <td>3.206260</td>\n",
       "      <td>-1.281329</td>\n",
       "      <td>Normal</td>\n",
       "    </tr>\n",
       "    <tr>\n",
       "      <th>...</th>\n",
       "      <td>...</td>\n",
       "      <td>...</td>\n",
       "      <td>...</td>\n",
       "      <td>...</td>\n",
       "      <td>...</td>\n",
       "      <td>...</td>\n",
       "      <td>...</td>\n",
       "      <td>...</td>\n",
       "      <td>...</td>\n",
       "      <td>...</td>\n",
       "    </tr>\n",
       "    <tr>\n",
       "      <th>460</th>\n",
       "      <td>0.701</td>\n",
       "      <td>-0.764</td>\n",
       "      <td>-0.114628</td>\n",
       "      <td>0.131560</td>\n",
       "      <td>0.174490</td>\n",
       "      <td>0.134774</td>\n",
       "      <td>1.459441</td>\n",
       "      <td>4.017426</td>\n",
       "      <td>-1.522231</td>\n",
       "      <td>Roller Element</td>\n",
       "    </tr>\n",
       "    <tr>\n",
       "      <th>461</th>\n",
       "      <td>0.571</td>\n",
       "      <td>-0.667</td>\n",
       "      <td>-0.114702</td>\n",
       "      <td>0.126378</td>\n",
       "      <td>0.170667</td>\n",
       "      <td>0.071571</td>\n",
       "      <td>1.195710</td>\n",
       "      <td>3.345699</td>\n",
       "      <td>-1.487915</td>\n",
       "      <td>Roller Element</td>\n",
       "    </tr>\n",
       "    <tr>\n",
       "      <th>462</th>\n",
       "      <td>0.623</td>\n",
       "      <td>-0.708</td>\n",
       "      <td>-0.114239</td>\n",
       "      <td>0.126722</td>\n",
       "      <td>0.170611</td>\n",
       "      <td>0.100394</td>\n",
       "      <td>1.255684</td>\n",
       "      <td>3.651572</td>\n",
       "      <td>-1.493457</td>\n",
       "      <td>Roller Element</td>\n",
       "    </tr>\n",
       "    <tr>\n",
       "      <th>463</th>\n",
       "      <td>0.752</td>\n",
       "      <td>-0.686</td>\n",
       "      <td>-0.114455</td>\n",
       "      <td>0.128396</td>\n",
       "      <td>0.172002</td>\n",
       "      <td>0.086076</td>\n",
       "      <td>1.189483</td>\n",
       "      <td>4.372047</td>\n",
       "      <td>-1.502786</td>\n",
       "      <td>Roller Element</td>\n",
       "    </tr>\n",
       "    <tr>\n",
       "      <th>464</th>\n",
       "      <td>0.583</td>\n",
       "      <td>-0.737</td>\n",
       "      <td>-0.114645</td>\n",
       "      <td>0.123409</td>\n",
       "      <td>0.168441</td>\n",
       "      <td>0.106775</td>\n",
       "      <td>1.241986</td>\n",
       "      <td>3.461146</td>\n",
       "      <td>-1.469247</td>\n",
       "      <td>Roller Element</td>\n",
       "    </tr>\n",
       "  </tbody>\n",
       "</table>\n",
       "<p>2278 rows × 10 columns</p>\n",
       "</div>"
      ],
      "text/plain": [
       "       Max    Min      Mean       Std       RMS  Skewness  Kurtosis  \\\n",
       "0    0.422 -0.657 -0.117744  0.093095  0.150100 -0.033307  0.876667   \n",
       "1    0.466 -0.605 -0.116695  0.091405  0.148230  0.022064  0.946745   \n",
       "2    0.356 -0.713 -0.117174  0.094340  0.150430 -0.088984  0.858388   \n",
       "3    0.500 -0.647 -0.117876  0.093033  0.150165 -0.036459  0.957214   \n",
       "4    0.479 -0.659 -0.116594  0.093409  0.149395 -0.002756  1.290804   \n",
       "..     ...    ...       ...       ...       ...       ...       ...   \n",
       "460  0.701 -0.764 -0.114628  0.131560  0.174490  0.134774  1.459441   \n",
       "461  0.571 -0.667 -0.114702  0.126378  0.170667  0.071571  1.195710   \n",
       "462  0.623 -0.708 -0.114239  0.126722  0.170611  0.100394  1.255684   \n",
       "463  0.752 -0.686 -0.114455  0.128396  0.172002  0.086076  1.189483   \n",
       "464  0.583 -0.737 -0.114645  0.123409  0.168441  0.106775  1.241986   \n",
       "\n",
       "     Crest Factor  Form Factor           Fault  \n",
       "0        2.811460    -1.274798          Normal  \n",
       "1        3.143757    -1.270240          Normal  \n",
       "2        2.366546    -1.283821          Normal  \n",
       "3        3.329671    -1.273921          Normal  \n",
       "4        3.206260    -1.281329          Normal  \n",
       "..            ...          ...             ...  \n",
       "460      4.017426    -1.522231  Roller Element  \n",
       "461      3.345699    -1.487915  Roller Element  \n",
       "462      3.651572    -1.493457  Roller Element  \n",
       "463      4.372047    -1.502786  Roller Element  \n",
       "464      3.461146    -1.469247  Roller Element  \n",
       "\n",
       "[2278 rows x 10 columns]"
      ]
     },
     "execution_count": 62,
     "metadata": {},
     "output_type": "execute_result"
    }
   ],
   "source": [
    "df = pd.concat([df1,df2,df3,df4,df5])\n",
    "df"
   ]
  },
  {
   "cell_type": "code",
   "execution_count": 63,
   "metadata": {},
   "outputs": [],
   "source": [
    "# sns.set(rc={'figure.figsize':(10,6)})\n",
    "# sns.scatterplot(x='Form Factor',y='Max',hue='Fault',data=df,palette='Dark2_r')"
   ]
  },
  {
   "cell_type": "code",
   "execution_count": 64,
   "metadata": {},
   "outputs": [
    {
     "data": {
      "text/plain": [
       "array(['Normal', 'Outer Race', 'Inner Race', 'Roller Element'],\n",
       "      dtype=object)"
      ]
     },
     "execution_count": 64,
     "metadata": {},
     "output_type": "execute_result"
    }
   ],
   "source": [
    "df['Fault'].unique()"
   ]
  },
  {
   "cell_type": "code",
   "execution_count": 65,
   "metadata": {},
   "outputs": [],
   "source": [
    "X = df.iloc[:,:-1]\n",
    "y = df.iloc[:,-1]"
   ]
  },
  {
   "cell_type": "code",
   "execution_count": 66,
   "metadata": {},
   "outputs": [],
   "source": [
    "from sklearn.model_selection import train_test_split\n",
    "X_train, X_test, y_train, y_test = train_test_split( X, y, test_size=0.20)"
   ]
  },
  {
   "cell_type": "code",
   "execution_count": 67,
   "metadata": {},
   "outputs": [
    {
     "data": {
      "text/plain": [
       "<AxesSubplot:>"
      ]
     },
     "execution_count": 67,
     "metadata": {},
     "output_type": "execute_result"
    },
    {
     "data": {
      "image/png": "[encoded data removed]",
      "text/plain": [
       "<Figure size 432x288 with 2 Axes>"
      ]
     },
     "metadata": {
      "needs_background": "light"
     },
     "output_type": "display_data"
    }
   ],
   "source": [
    "from sklearn.ensemble import RandomForestClassifier\n",
    "from sklearn.metrics import confusion_matrix\n",
    "\n",
    "rf_model = RandomForestClassifier().fit(X_train, y_train)\n",
    "y_pred = rf_model.predict(X_test)\n",
    "  \n",
    "labels=['Normal', 'Outer Race', 'Inner Race', 'Roller Element']    \n",
    "    \n",
    "# creating a confusion matrix\n",
    "cm = confusion_matrix(y_test, y_pred,labels=['Normal', 'Outer Race', 'Inner Race', 'Roller Element'], normalize ='true')\n",
    "colormap = sns.color_palette(\"Reds\")\n",
    "sns.heatmap(cm, annot=True,cmap=colormap,xticklabels=labels, yticklabels=labels)"
   ]
  },
  {
   "cell_type": "markdown",
   "metadata": {},
   "source": [
    "# Testing using this Random Forest Model"
   ]
  },
  {
   "cell_type": "markdown",
   "metadata": {},
   "source": [
    "- At the end of the **TEST-1**, **inner race defect** occurred in **bearing 3** and **roller element** defect in **bearing 4**. \n",
    "- At the end of the **TEST-2**, **outer race failure** occurred in **bearing 1**.\n",
    "- At the end of the **TEST-3**, **outer race failure** occurred in **bearing 3**."
   ]
  },
  {
   "cell_type": "code",
   "execution_count": 68,
   "metadata": {},
   "outputs": [],
   "source": [
    "Test_no=2\n",
    "Bearing_no=1\n",
    "\n",
    "test_2 = pd.read_csv(\"Time_feature_matrix_Bearing_{}_Test_{}.csv\".format(Bearing_no,Test_no),index_col='Unnamed: 0')\n"
   ]
  },
  {
   "cell_type": "code",
   "execution_count": null,
   "metadata": {},
   "outputs": [],
   "source": []
  },
  {
   "cell_type": "code",
   "execution_count": 69,
   "metadata": {},
   "outputs": [
    {
     "data": {
      "text/plain": [
       "array(['Normal', 'Normal', 'Normal', 'Normal', 'Normal', 'Normal',\n",
       "       'Normal', 'Normal', 'Normal', 'Normal', 'Normal', 'Normal',\n",
       "       'Normal', 'Normal', 'Normal', 'Normal', 'Normal', 'Normal',\n",
       "       'Normal', 'Normal', 'Normal', 'Normal', 'Normal', 'Normal',\n",
       "       'Normal', 'Normal', 'Normal', 'Normal', 'Normal', 'Normal',\n",
       "       'Normal', 'Outer Race', 'Normal', 'Normal', 'Normal', 'Normal',\n",
       "       'Normal', 'Outer Race', 'Normal', 'Normal', 'Normal', 'Normal',\n",
       "       'Normal', 'Normal', 'Normal', 'Normal', 'Normal', 'Normal',\n",
       "       'Normal', 'Normal', 'Normal', 'Normal', 'Normal', 'Normal',\n",
       "       'Normal', 'Normal', 'Normal', 'Normal', 'Normal', 'Normal',\n",
       "       'Normal', 'Normal', 'Normal', 'Normal', 'Normal', 'Normal',\n",
       "       'Normal', 'Normal', 'Normal', 'Normal', 'Normal', 'Normal',\n",
       "       'Normal', 'Normal', 'Normal', 'Normal', 'Normal', 'Normal',\n",
       "       'Normal', 'Normal', 'Normal', 'Normal', 'Normal', 'Normal',\n",
       "       'Normal', 'Normal', 'Normal', 'Normal', 'Normal', 'Normal',\n",
       "       'Normal', 'Normal', 'Normal', 'Normal', 'Normal', 'Normal',\n",
       "       'Normal', 'Normal', 'Normal', 'Normal', 'Normal', 'Normal',\n",
       "       'Normal', 'Normal', 'Normal', 'Normal', 'Normal', 'Normal',\n",
       "       'Normal', 'Normal', 'Normal', 'Normal', 'Normal', 'Normal',\n",
       "       'Normal', 'Normal', 'Normal', 'Normal', 'Normal', 'Normal',\n",
       "       'Normal', 'Normal', 'Normal', 'Normal', 'Normal', 'Normal',\n",
       "       'Normal', 'Normal', 'Normal', 'Normal', 'Normal', 'Normal',\n",
       "       'Normal', 'Normal', 'Normal', 'Normal', 'Normal', 'Normal',\n",
       "       'Normal', 'Normal', 'Normal', 'Normal', 'Normal', 'Normal',\n",
       "       'Normal', 'Normal', 'Normal', 'Normal', 'Normal', 'Normal',\n",
       "       'Normal', 'Normal', 'Normal', 'Normal', 'Normal', 'Normal',\n",
       "       'Normal', 'Normal', 'Normal', 'Normal', 'Normal', 'Normal',\n",
       "       'Normal', 'Normal', 'Normal', 'Normal', 'Normal', 'Normal',\n",
       "       'Normal', 'Normal', 'Normal', 'Normal', 'Normal', 'Normal',\n",
       "       'Normal', 'Normal', 'Normal', 'Normal', 'Normal', 'Normal',\n",
       "       'Normal', 'Normal', 'Normal', 'Normal', 'Normal', 'Normal',\n",
       "       'Normal', 'Normal', 'Normal', 'Normal', 'Normal', 'Normal',\n",
       "       'Normal', 'Normal', 'Normal', 'Normal', 'Normal', 'Normal',\n",
       "       'Normal', 'Normal', 'Normal', 'Normal', 'Normal', 'Normal',\n",
       "       'Normal', 'Normal', 'Normal', 'Normal', 'Normal', 'Normal',\n",
       "       'Normal', 'Normal', 'Normal', 'Normal', 'Normal', 'Normal',\n",
       "       'Normal', 'Normal', 'Normal', 'Normal', 'Normal', 'Normal',\n",
       "       'Normal', 'Normal', 'Normal', 'Normal', 'Normal', 'Normal',\n",
       "       'Normal', 'Normal', 'Normal', 'Normal', 'Normal', 'Normal',\n",
       "       'Normal', 'Normal', 'Normal', 'Normal', 'Normal', 'Normal',\n",
       "       'Normal', 'Normal', 'Normal', 'Normal', 'Normal', 'Normal',\n",
       "       'Normal', 'Normal', 'Normal', 'Normal', 'Normal', 'Normal',\n",
       "       'Normal', 'Normal', 'Normal', 'Normal', 'Normal', 'Normal',\n",
       "       'Normal', 'Normal', 'Normal', 'Normal', 'Normal', 'Normal',\n",
       "       'Normal', 'Normal', 'Normal', 'Normal', 'Normal', 'Normal',\n",
       "       'Normal', 'Normal', 'Normal', 'Normal', 'Normal', 'Normal',\n",
       "       'Normal', 'Normal', 'Normal', 'Normal', 'Normal', 'Normal',\n",
       "       'Normal', 'Normal', 'Normal', 'Normal', 'Normal', 'Normal',\n",
       "       'Normal', 'Normal', 'Normal', 'Normal', 'Normal', 'Normal',\n",
       "       'Normal', 'Normal', 'Normal', 'Normal', 'Normal', 'Normal',\n",
       "       'Normal', 'Normal', 'Normal', 'Normal', 'Normal', 'Normal',\n",
       "       'Normal', 'Normal', 'Normal', 'Normal', 'Normal', 'Normal',\n",
       "       'Normal', 'Normal', 'Normal', 'Normal', 'Normal', 'Normal',\n",
       "       'Normal', 'Normal', 'Normal', 'Normal', 'Normal', 'Normal',\n",
       "       'Normal', 'Normal', 'Normal', 'Normal', 'Normal', 'Normal',\n",
       "       'Normal', 'Normal', 'Normal', 'Normal', 'Normal', 'Normal',\n",
       "       'Normal', 'Normal', 'Normal', 'Normal', 'Normal', 'Normal',\n",
       "       'Normal', 'Normal', 'Normal', 'Normal', 'Normal', 'Normal',\n",
       "       'Normal', 'Normal', 'Normal', 'Normal', 'Normal', 'Normal',\n",
       "       'Normal', 'Normal', 'Normal', 'Normal', 'Normal', 'Normal',\n",
       "       'Normal', 'Normal', 'Normal', 'Normal', 'Normal', 'Normal',\n",
       "       'Normal', 'Normal', 'Normal', 'Normal', 'Normal', 'Normal',\n",
       "       'Normal', 'Normal', 'Normal', 'Normal', 'Normal', 'Normal',\n",
       "       'Normal', 'Normal', 'Normal', 'Normal', 'Normal', 'Normal',\n",
       "       'Normal', 'Normal', 'Normal', 'Normal', 'Normal', 'Normal',\n",
       "       'Normal', 'Normal', 'Normal', 'Normal', 'Normal', 'Normal',\n",
       "       'Normal', 'Normal', 'Outer Race', 'Normal', 'Normal', 'Normal',\n",
       "       'Normal', 'Normal', 'Normal', 'Normal', 'Normal', 'Normal',\n",
       "       'Normal', 'Normal', 'Normal', 'Normal', 'Normal', 'Normal',\n",
       "       'Normal', 'Normal', 'Normal', 'Normal', 'Normal', 'Normal',\n",
       "       'Normal', 'Normal', 'Normal', 'Normal', 'Normal', 'Normal',\n",
       "       'Normal', 'Normal', 'Normal', 'Normal', 'Normal', 'Normal',\n",
       "       'Normal', 'Normal', 'Normal', 'Normal', 'Normal', 'Normal',\n",
       "       'Normal', 'Normal', 'Normal', 'Normal', 'Normal', 'Normal',\n",
       "       'Normal', 'Normal', 'Normal', 'Normal', 'Normal', 'Normal',\n",
       "       'Normal', 'Normal', 'Normal', 'Normal', 'Normal', 'Normal',\n",
       "       'Normal', 'Normal', 'Normal', 'Normal', 'Normal', 'Normal',\n",
       "       'Normal', 'Normal', 'Normal', 'Normal', 'Normal', 'Normal',\n",
       "       'Normal', 'Normal', 'Normal', 'Normal', 'Normal', 'Normal',\n",
       "       'Normal', 'Normal', 'Normal', 'Normal', 'Normal', 'Normal',\n",
       "       'Normal', 'Normal', 'Normal', 'Normal', 'Normal', 'Normal',\n",
       "       'Normal', 'Normal', 'Normal', 'Normal', 'Normal', 'Normal',\n",
       "       'Normal', 'Normal', 'Normal', 'Normal', 'Normal', 'Normal',\n",
       "       'Normal', 'Normal', 'Normal', 'Normal', 'Normal', 'Normal',\n",
       "       'Normal', 'Normal', 'Normal', 'Normal', 'Normal', 'Normal',\n",
       "       'Normal', 'Normal', 'Outer Race', 'Normal', 'Normal', 'Normal',\n",
       "       'Normal', 'Normal', 'Normal', 'Normal', 'Normal', 'Normal',\n",
       "       'Normal', 'Normal', 'Normal', 'Normal', 'Normal', 'Normal',\n",
       "       'Normal', 'Normal', 'Normal', 'Normal', 'Outer Race', 'Outer Race',\n",
       "       'Outer Race', 'Outer Race', 'Outer Race', 'Outer Race',\n",
       "       'Outer Race', 'Outer Race', 'Outer Race', 'Outer Race',\n",
       "       'Outer Race', 'Outer Race', 'Outer Race', 'Outer Race',\n",
       "       'Outer Race', 'Outer Race', 'Outer Race', 'Outer Race',\n",
       "       'Outer Race', 'Outer Race', 'Outer Race', 'Outer Race',\n",
       "       'Outer Race', 'Outer Race', 'Outer Race', 'Outer Race',\n",
       "       'Outer Race', 'Outer Race', 'Outer Race', 'Outer Race',\n",
       "       'Outer Race', 'Outer Race', 'Outer Race', 'Outer Race',\n",
       "       'Outer Race', 'Outer Race', 'Outer Race', 'Outer Race',\n",
       "       'Outer Race', 'Outer Race', 'Outer Race', 'Outer Race',\n",
       "       'Outer Race', 'Outer Race', 'Outer Race', 'Outer Race',\n",
       "       'Outer Race', 'Outer Race', 'Outer Race', 'Outer Race',\n",
       "       'Outer Race', 'Outer Race', 'Outer Race', 'Outer Race',\n",
       "       'Outer Race', 'Outer Race', 'Outer Race', 'Outer Race',\n",
       "       'Outer Race', 'Outer Race', 'Outer Race', 'Outer Race',\n",
       "       'Outer Race', 'Outer Race', 'Outer Race', 'Outer Race',\n",
       "       'Outer Race', 'Outer Race', 'Outer Race', 'Normal', 'Outer Race',\n",
       "       'Outer Race', 'Outer Race', 'Outer Race', 'Outer Race',\n",
       "       'Outer Race', 'Outer Race', 'Outer Race', 'Outer Race',\n",
       "       'Outer Race', 'Outer Race', 'Outer Race', 'Outer Race',\n",
       "       'Outer Race', 'Outer Race', 'Outer Race', 'Outer Race',\n",
       "       'Outer Race', 'Outer Race', 'Outer Race', 'Outer Race',\n",
       "       'Outer Race', 'Outer Race', 'Outer Race', 'Outer Race',\n",
       "       'Outer Race', 'Outer Race', 'Outer Race', 'Normal', 'Outer Race',\n",
       "       'Normal', 'Outer Race', 'Normal', 'Outer Race', 'Outer Race',\n",
       "       'Outer Race', 'Outer Race', 'Outer Race', 'Outer Race',\n",
       "       'Outer Race', 'Outer Race', 'Outer Race', 'Outer Race',\n",
       "       'Outer Race', 'Outer Race', 'Outer Race', 'Outer Race',\n",
       "       'Outer Race', 'Outer Race', 'Outer Race', 'Outer Race',\n",
       "       'Outer Race', 'Outer Race', 'Outer Race', 'Outer Race',\n",
       "       'Outer Race', 'Outer Race', 'Outer Race', 'Outer Race',\n",
       "       'Outer Race', 'Outer Race', 'Outer Race', 'Outer Race',\n",
       "       'Outer Race', 'Outer Race', 'Outer Race', 'Outer Race',\n",
       "       'Outer Race', 'Outer Race', 'Outer Race', 'Outer Race',\n",
       "       'Outer Race', 'Outer Race', 'Outer Race', 'Outer Race',\n",
       "       'Outer Race', 'Outer Race', 'Outer Race', 'Outer Race',\n",
       "       'Outer Race', 'Outer Race', 'Outer Race', 'Outer Race',\n",
       "       'Outer Race', 'Outer Race', 'Outer Race', 'Outer Race',\n",
       "       'Outer Race', 'Outer Race', 'Outer Race', 'Outer Race',\n",
       "       'Outer Race', 'Outer Race', 'Outer Race', 'Outer Race',\n",
       "       'Outer Race', 'Outer Race', 'Outer Race', 'Outer Race',\n",
       "       'Outer Race', 'Outer Race', 'Outer Race', 'Outer Race',\n",
       "       'Outer Race', 'Outer Race', 'Outer Race', 'Outer Race',\n",
       "       'Outer Race', 'Outer Race', 'Outer Race', 'Outer Race',\n",
       "       'Outer Race', 'Outer Race', 'Outer Race', 'Outer Race',\n",
       "       'Outer Race', 'Outer Race', 'Outer Race', 'Outer Race',\n",
       "       'Outer Race', 'Outer Race', 'Outer Race', 'Outer Race',\n",
       "       'Outer Race', 'Outer Race', 'Outer Race', 'Outer Race',\n",
       "       'Outer Race', 'Outer Race', 'Outer Race', 'Outer Race',\n",
       "       'Outer Race', 'Outer Race', 'Outer Race', 'Outer Race',\n",
       "       'Outer Race', 'Outer Race', 'Outer Race', 'Outer Race',\n",
       "       'Outer Race', 'Outer Race', 'Outer Race', 'Outer Race',\n",
       "       'Outer Race', 'Outer Race', 'Outer Race', 'Outer Race',\n",
       "       'Outer Race', 'Outer Race', 'Outer Race', 'Outer Race',\n",
       "       'Outer Race', 'Outer Race', 'Outer Race', 'Outer Race',\n",
       "       'Outer Race', 'Outer Race', 'Outer Race', 'Outer Race',\n",
       "       'Outer Race', 'Outer Race', 'Outer Race', 'Outer Race',\n",
       "       'Outer Race', 'Outer Race', 'Outer Race', 'Outer Race',\n",
       "       'Outer Race', 'Outer Race', 'Outer Race', 'Outer Race',\n",
       "       'Outer Race', 'Outer Race', 'Outer Race', 'Outer Race',\n",
       "       'Outer Race', 'Outer Race', 'Outer Race', 'Outer Race',\n",
       "       'Outer Race', 'Outer Race', 'Outer Race', 'Outer Race',\n",
       "       'Outer Race', 'Outer Race', 'Outer Race', 'Outer Race',\n",
       "       'Outer Race', 'Outer Race', 'Outer Race', 'Outer Race',\n",
       "       'Outer Race', 'Outer Race', 'Outer Race', 'Outer Race',\n",
       "       'Outer Race', 'Outer Race', 'Outer Race', 'Outer Race',\n",
       "       'Outer Race', 'Outer Race', 'Outer Race', 'Outer Race',\n",
       "       'Outer Race', 'Outer Race', 'Outer Race', 'Outer Race',\n",
       "       'Outer Race', 'Outer Race', 'Outer Race', 'Outer Race',\n",
       "       'Outer Race', 'Outer Race', 'Outer Race', 'Outer Race',\n",
       "       'Outer Race', 'Outer Race', 'Outer Race', 'Outer Race',\n",
       "       'Outer Race', 'Outer Race', 'Outer Race', 'Outer Race',\n",
       "       'Outer Race', 'Outer Race', 'Outer Race', 'Outer Race',\n",
       "       'Outer Race', 'Outer Race', 'Outer Race', 'Outer Race',\n",
       "       'Outer Race', 'Outer Race', 'Outer Race', 'Outer Race',\n",
       "       'Outer Race', 'Outer Race', 'Outer Race', 'Outer Race',\n",
       "       'Outer Race', 'Outer Race', 'Outer Race', 'Outer Race',\n",
       "       'Outer Race', 'Outer Race', 'Outer Race', 'Outer Race',\n",
       "       'Outer Race', 'Outer Race', 'Outer Race', 'Outer Race',\n",
       "       'Outer Race', 'Outer Race', 'Outer Race', 'Outer Race',\n",
       "       'Outer Race', 'Outer Race', 'Outer Race', 'Outer Race',\n",
       "       'Outer Race', 'Outer Race', 'Outer Race', 'Outer Race',\n",
       "       'Outer Race', 'Outer Race', 'Outer Race', 'Outer Race',\n",
       "       'Outer Race', 'Outer Race', 'Outer Race', 'Outer Race',\n",
       "       'Outer Race', 'Outer Race', 'Outer Race', 'Outer Race',\n",
       "       'Outer Race', 'Outer Race', 'Outer Race', 'Outer Race',\n",
       "       'Outer Race', 'Outer Race', 'Outer Race', 'Outer Race',\n",
       "       'Outer Race', 'Outer Race', 'Outer Race', 'Outer Race',\n",
       "       'Outer Race', 'Outer Race', 'Outer Race', 'Outer Race',\n",
       "       'Outer Race', 'Outer Race', 'Outer Race', 'Outer Race',\n",
       "       'Outer Race', 'Outer Race', 'Outer Race', 'Outer Race',\n",
       "       'Outer Race', 'Outer Race', 'Outer Race', 'Outer Race',\n",
       "       'Outer Race', 'Outer Race', 'Outer Race', 'Outer Race',\n",
       "       'Outer Race', 'Outer Race', 'Outer Race', 'Outer Race',\n",
       "       'Outer Race', 'Outer Race', 'Outer Race', 'Outer Race',\n",
       "       'Outer Race', 'Outer Race', 'Outer Race', 'Outer Race',\n",
       "       'Outer Race', 'Outer Race', 'Outer Race', 'Outer Race',\n",
       "       'Outer Race', 'Outer Race', 'Outer Race', 'Outer Race',\n",
       "       'Outer Race', 'Outer Race', 'Outer Race', 'Outer Race',\n",
       "       'Outer Race', 'Outer Race', 'Outer Race', 'Outer Race',\n",
       "       'Outer Race', 'Outer Race', 'Outer Race', 'Outer Race',\n",
       "       'Outer Race', 'Outer Race', 'Outer Race', 'Outer Race',\n",
       "       'Outer Race', 'Outer Race', 'Outer Race', 'Outer Race',\n",
       "       'Outer Race', 'Outer Race', 'Outer Race', 'Outer Race',\n",
       "       'Outer Race', 'Outer Race', 'Outer Race', 'Outer Race',\n",
       "       'Outer Race', 'Outer Race', 'Outer Race', 'Outer Race',\n",
       "       'Outer Race', 'Outer Race', 'Outer Race', 'Outer Race',\n",
       "       'Outer Race', 'Outer Race', 'Outer Race', 'Outer Race',\n",
       "       'Outer Race', 'Outer Race', 'Outer Race', 'Outer Race',\n",
       "       'Outer Race', 'Outer Race', 'Outer Race', 'Outer Race',\n",
       "       'Outer Race', 'Outer Race', 'Outer Race', 'Outer Race',\n",
       "       'Outer Race', 'Normal', 'Normal'], dtype=object)"
      ]
     },
     "execution_count": 69,
     "metadata": {},
     "output_type": "execute_result"
    }
   ],
   "source": [
    "y_pred_test_2 = rf_model.predict(test_2)\n",
    "y_pred_test_2"
   ]
  },
  {
   "cell_type": "code",
   "execution_count": 70,
   "metadata": {},
   "outputs": [],
   "source": [
    "test_2['Fault']=y_pred_test_2\n"
   ]
  },
  {
   "cell_type": "code",
   "execution_count": 71,
   "metadata": {},
   "outputs": [
    {
     "data": {
      "text/html": [
       "<div>\n",
       "<style scoped>\n",
       "    .dataframe tbody tr th:only-of-type {\n",
       "        vertical-align: middle;\n",
       "    }\n",
       "\n",
       "    .dataframe tbody tr th {\n",
       "        vertical-align: top;\n",
       "    }\n",
       "\n",
       "    .dataframe thead th {\n",
       "        text-align: right;\n",
       "    }\n",
       "</style>\n",
       "<table border=\"1\" class=\"dataframe\">\n",
       "  <thead>\n",
       "    <tr style=\"text-align: right;\">\n",
       "      <th></th>\n",
       "      <th>Max</th>\n",
       "      <th>Min</th>\n",
       "      <th>Mean</th>\n",
       "      <th>Std</th>\n",
       "      <th>RMS</th>\n",
       "      <th>Skewness</th>\n",
       "      <th>Kurtosis</th>\n",
       "      <th>Crest Factor</th>\n",
       "      <th>Form Factor</th>\n",
       "      <th>Fault</th>\n",
       "    </tr>\n",
       "  </thead>\n",
       "  <tbody>\n",
       "    <tr>\n",
       "      <th>2004-02-12 10:32:00</th>\n",
       "      <td>0.454</td>\n",
       "      <td>-0.386</td>\n",
       "      <td>-0.010196</td>\n",
       "      <td>0.073477</td>\n",
       "      <td>0.074179</td>\n",
       "      <td>0.083987</td>\n",
       "      <td>0.628408</td>\n",
       "      <td>6.120331</td>\n",
       "      <td>-7.275307</td>\n",
       "      <td>Normal</td>\n",
       "    </tr>\n",
       "    <tr>\n",
       "      <th>2004-02-12 10:42:00</th>\n",
       "      <td>0.369</td>\n",
       "      <td>-0.388</td>\n",
       "      <td>-0.002585</td>\n",
       "      <td>0.075340</td>\n",
       "      <td>0.075382</td>\n",
       "      <td>0.052138</td>\n",
       "      <td>0.647935</td>\n",
       "      <td>4.895038</td>\n",
       "      <td>-29.161382</td>\n",
       "      <td>Normal</td>\n",
       "    </tr>\n",
       "    <tr>\n",
       "      <th>2004-02-12 10:52:00</th>\n",
       "      <td>0.503</td>\n",
       "      <td>-0.400</td>\n",
       "      <td>-0.002484</td>\n",
       "      <td>0.076191</td>\n",
       "      <td>0.076230</td>\n",
       "      <td>0.032806</td>\n",
       "      <td>0.513132</td>\n",
       "      <td>6.598472</td>\n",
       "      <td>-30.688508</td>\n",
       "      <td>Normal</td>\n",
       "    </tr>\n",
       "    <tr>\n",
       "      <th>2004-02-12 11:02:00</th>\n",
       "      <td>0.608</td>\n",
       "      <td>-0.576</td>\n",
       "      <td>-0.002277</td>\n",
       "      <td>0.078693</td>\n",
       "      <td>0.078724</td>\n",
       "      <td>0.041483</td>\n",
       "      <td>1.157547</td>\n",
       "      <td>7.723217</td>\n",
       "      <td>-34.579322</td>\n",
       "      <td>Normal</td>\n",
       "    </tr>\n",
       "    <tr>\n",
       "      <th>2004-02-12 11:12:00</th>\n",
       "      <td>0.391</td>\n",
       "      <td>-0.391</td>\n",
       "      <td>-0.002404</td>\n",
       "      <td>0.078439</td>\n",
       "      <td>0.078474</td>\n",
       "      <td>0.028222</td>\n",
       "      <td>0.602825</td>\n",
       "      <td>4.982524</td>\n",
       "      <td>-32.645152</td>\n",
       "      <td>Normal</td>\n",
       "    </tr>\n",
       "    <tr>\n",
       "      <th>...</th>\n",
       "      <td>...</td>\n",
       "      <td>...</td>\n",
       "      <td>...</td>\n",
       "      <td>...</td>\n",
       "      <td>...</td>\n",
       "      <td>...</td>\n",
       "      <td>...</td>\n",
       "      <td>...</td>\n",
       "      <td>...</td>\n",
       "      <td>...</td>\n",
       "    </tr>\n",
       "    <tr>\n",
       "      <th>2004-02-19 05:42:00</th>\n",
       "      <td>4.998</td>\n",
       "      <td>-5.000</td>\n",
       "      <td>-0.002752</td>\n",
       "      <td>0.725014</td>\n",
       "      <td>0.725001</td>\n",
       "      <td>-0.510519</td>\n",
       "      <td>12.576183</td>\n",
       "      <td>6.893779</td>\n",
       "      <td>-263.426419</td>\n",
       "      <td>Outer Race</td>\n",
       "    </tr>\n",
       "    <tr>\n",
       "      <th>2004-02-19 05:52:00</th>\n",
       "      <td>2.688</td>\n",
       "      <td>-2.881</td>\n",
       "      <td>-0.004487</td>\n",
       "      <td>0.462001</td>\n",
       "      <td>0.462012</td>\n",
       "      <td>-0.325344</td>\n",
       "      <td>3.759312</td>\n",
       "      <td>5.818035</td>\n",
       "      <td>-102.977656</td>\n",
       "      <td>Outer Race</td>\n",
       "    </tr>\n",
       "    <tr>\n",
       "      <th>2004-02-19 06:02:00</th>\n",
       "      <td>3.501</td>\n",
       "      <td>-3.696</td>\n",
       "      <td>-0.001703</td>\n",
       "      <td>0.483844</td>\n",
       "      <td>0.483835</td>\n",
       "      <td>-0.377068</td>\n",
       "      <td>4.890985</td>\n",
       "      <td>7.235932</td>\n",
       "      <td>-284.094983</td>\n",
       "      <td>Outer Race</td>\n",
       "    </tr>\n",
       "    <tr>\n",
       "      <th>2004-02-19 06:12:00</th>\n",
       "      <td>0.005</td>\n",
       "      <td>0.000</td>\n",
       "      <td>0.001857</td>\n",
       "      <td>0.000987</td>\n",
       "      <td>0.002103</td>\n",
       "      <td>0.579656</td>\n",
       "      <td>3.636864</td>\n",
       "      <td>2.377543</td>\n",
       "      <td>1.132578</td>\n",
       "      <td>Normal</td>\n",
       "    </tr>\n",
       "    <tr>\n",
       "      <th>2004-02-19 06:22:00</th>\n",
       "      <td>0.002</td>\n",
       "      <td>-0.005</td>\n",
       "      <td>-0.001162</td>\n",
       "      <td>0.001000</td>\n",
       "      <td>0.001533</td>\n",
       "      <td>0.317009</td>\n",
       "      <td>-1.609910</td>\n",
       "      <td>1.304860</td>\n",
       "      <td>-1.319089</td>\n",
       "      <td>Normal</td>\n",
       "    </tr>\n",
       "  </tbody>\n",
       "</table>\n",
       "<p>984 rows × 10 columns</p>\n",
       "</div>"
      ],
      "text/plain": [
       "                       Max    Min      Mean       Std       RMS  Skewness  \\\n",
       "2004-02-12 10:32:00  0.454 -0.386 -0.010196  0.073477  0.074179  0.083987   \n",
       "2004-02-12 10:42:00  0.369 -0.388 -0.002585  0.075340  0.075382  0.052138   \n",
       "2004-02-12 10:52:00  0.503 -0.400 -0.002484  0.076191  0.076230  0.032806   \n",
       "2004-02-12 11:02:00  0.608 -0.576 -0.002277  0.078693  0.078724  0.041483   \n",
       "2004-02-12 11:12:00  0.391 -0.391 -0.002404  0.078439  0.078474  0.028222   \n",
       "...                    ...    ...       ...       ...       ...       ...   \n",
       "2004-02-19 05:42:00  4.998 -5.000 -0.002752  0.725014  0.725001 -0.510519   \n",
       "2004-02-19 05:52:00  2.688 -2.881 -0.004487  0.462001  0.462012 -0.325344   \n",
       "2004-02-19 06:02:00  3.501 -3.696 -0.001703  0.483844  0.483835 -0.377068   \n",
       "2004-02-19 06:12:00  0.005  0.000  0.001857  0.000987  0.002103  0.579656   \n",
       "2004-02-19 06:22:00  0.002 -0.005 -0.001162  0.001000  0.001533  0.317009   \n",
       "\n",
       "                      Kurtosis  Crest Factor  Form Factor       Fault  \n",
       "2004-02-12 10:32:00   0.628408      6.120331    -7.275307      Normal  \n",
       "2004-02-12 10:42:00   0.647935      4.895038   -29.161382      Normal  \n",
       "2004-02-12 10:52:00   0.513132      6.598472   -30.688508      Normal  \n",
       "2004-02-12 11:02:00   1.157547      7.723217   -34.579322      Normal  \n",
       "2004-02-12 11:12:00   0.602825      4.982524   -32.645152      Normal  \n",
       "...                        ...           ...          ...         ...  \n",
       "2004-02-19 05:42:00  12.576183      6.893779  -263.426419  Outer Race  \n",
       "2004-02-19 05:52:00   3.759312      5.818035  -102.977656  Outer Race  \n",
       "2004-02-19 06:02:00   4.890985      7.235932  -284.094983  Outer Race  \n",
       "2004-02-19 06:12:00   3.636864      2.377543     1.132578      Normal  \n",
       "2004-02-19 06:22:00  -1.609910      1.304860    -1.319089      Normal  \n",
       "\n",
       "[984 rows x 10 columns]"
      ]
     },
     "execution_count": 71,
     "metadata": {},
     "output_type": "execute_result"
    }
   ],
   "source": [
    "test_2"
   ]
  },
  {
   "cell_type": "code",
   "execution_count": 72,
   "metadata": {},
   "outputs": [
    {
     "name": "stdout",
     "output_type": "stream",
     "text": [
      "0.9868421052631579\n"
     ]
    }
   ],
   "source": [
    "from sklearn.metrics import accuracy_score\n",
    "accuracy = accuracy_score(y_test, y_pred)\n",
    "print(accuracy)"
   ]
  },
  {
   "cell_type": "code",
   "execution_count": 73,
   "metadata": {},
   "outputs": [],
   "source": [
    "test_2.index = pd.to_datetime(test_2.index)"
   ]
  },
  {
   "cell_type": "code",
   "execution_count": 74,
   "metadata": {},
   "outputs": [
    {
     "data": {
      "image/png": "[encoded data removed]",
      "text/plain": [
       "<Figure size 720x360 with 1 Axes>"
      ]
     },
     "metadata": {
      "needs_background": "light"
     },
     "output_type": "display_data"
    }
   ],
   "source": [
    "Test_no=1\n",
    "Bearing_no=3\n",
    "\n",
    "\n",
    "test_2 = pd.read_csv(\"Time_feature_matrix_Bearing_{}_Test_{}.csv\".format(Bearing_no,Test_no),index_col='Unnamed: 0')\n",
    "y_pred_test_2 = rf_model.predict(test_2)\n",
    "test_2['Fault']=y_pred_test_2\n",
    "test_2.index = pd.to_datetime(test_2.index)\n",
    "\n",
    "\n",
    "norm = test_2[test_2['Fault']=='Normal']\n",
    "Out_rac = test_2[test_2['Fault']=='Outer Race']\n",
    "iner_rac = test_2[test_2['Fault']=='Inner Race']\n",
    "roll_elem = test_2[test_2['Fault']=='Roller Element']\n",
    "\n",
    "###############################################################\n",
    "\n",
    "col='Max'                      # Change this value to any column name \n",
    "plt.figure(figsize=(10, 5))\n",
    "plt.scatter(norm.index,norm[col])\n",
    "plt.scatter(Out_rac.index,Out_rac[col])\n",
    "plt.scatter(iner_rac.index,iner_rac[col])\n",
    "plt.scatter(roll_elem.index,roll_elem[col])\n",
    "\n",
    "plt.legend(['Normal','Outer Race','Inner Race','Roller Element'])\n",
    "plt.title(col)\n",
    "plt.show()"
   ]
  },
  {
   "cell_type": "code",
   "execution_count": null,
   "metadata": {},
   "outputs": [],
   "source": [
    "# sns.set(rc={'figure.figsize':(10,6)})\n",
    "# sns.scatterplot(x=test_2.index,y='Max',hue='Fault',data=test_2,palette='Dark2_r')"
   ]
  },
  {
   "cell_type": "code",
   "execution_count": 78,
   "metadata": {},
   "outputs": [
    {
     "name": "stdout",
     "output_type": "stream",
     "text": [
      "Requirement already satisfied: xgboost in c:\\users\\comsol\\downloads\\an\\lib\\site-packages (1.7.4)\n",
      "Requirement already satisfied: numpy in c:\\users\\comsol\\downloads\\an\\lib\\site-packages (from xgboost) (1.20.3)\n",
      "Requirement already satisfied: scipy in c:\\users\\comsol\\downloads\\an\\lib\\site-packages (from xgboost) (1.7.1)\n",
      "Note: you may need to restart the kernel to use updated packages.\n"
     ]
    }
   ],
   "source": [
    "pip install xgboost\n"
   ]
  },
  {
   "cell_type": "code",
   "execution_count": 80,
   "metadata": {},
   "outputs": [
    {
     "data": {
      "image/png": "[encoded data removed]",
      "text/plain": [
       "<Figure size 432x288 with 2 Axes>"
      ]
     },
     "metadata": {
      "needs_background": "light"
     },
     "output_type": "display_data"
    }
   ],
   "source": [
    "from sklearn.preprocessing import LabelEncoder\n",
    "\n",
    "# Load data into a Pandas DataFrame\n",
    "df1=pd.read_csv('Normal_Bearing.csv')\n",
    "df2=pd.read_csv('outer_race_fault_test_2.csv')\n",
    "df3=pd.read_csv('outer_race_fault_test_3.csv')\n",
    "df4=pd.read_csv('inner_race_fault.csv')\n",
    "df5=pd.read_csv('roller_element_fault.csv')\n",
    "data= pd.concat([df1,df2,df3,df4,df5])\n",
    "# Encode the labels as numeric values\n",
    "label_encoder = LabelEncoder()\n",
    "data['fault'] = label_encoder.fit_transform(data['Fault'])\n",
    "\n",
    "# Split data into features and labels\n",
    "X = data.drop('fault', axis=1)\n",
    "y = data['fault']\n",
    "X_train, X_test, y_train, y_test = train_test_split(X, y, test_size=0.2, random_state=42)\n",
    "# Plot the confusion matrix as a heatmap\n",
    "from sklearn.metrics import confusion_matrix\n",
    "import matplotlib.pyplot as plt\n",
    "import seaborn as sns\n",
    "sns.heatmap(cm, annot=True, cmap='Blues', fmt='g', xticklabels=label_encoder.classes_, yticklabels=label_encoder.classes_)\n",
    "plt.xlabel('Predicted')\n",
    "plt.ylabel('True')\n",
    "plt.show()\n"
   ]
  },
  {
   "cell_type": "code",
   "execution_count": 87,
   "metadata": {},
   "outputs": [
    {
     "name": "stdout",
     "output_type": "stream",
     "text": [
      "Accuracy: 0.9539473684210527\n"
     ]
    }
   ],
   "source": [
    "\n",
    "\n",
    "# Split the data into training and testing sets\n",
    "X_train, X_test, y_train, y_test = train_test_split(X, y, test_size=0.2, random_state=42)\n",
    "\n",
    "# Train an XGBoost model\n",
    "xgb_model = xgb.XGBClassifier()\n",
    "xgb_model.fit(X_train, y_train)\n",
    "\n",
    "# Make predictions on new data\n",
    "y_pred = xgb_model.predict(X_test)\n",
    "\n",
    "# Evaluate the model's accuracy\n",
    "from sklearn.metrics import accuracy_score\n",
    "\n",
    "accuracy = accuracy_score(y_test, y_pred)\n",
    "print(f\"Accuracy: {accuracy}\")\n"
   ]
  },
  {
   "cell_type": "code",
   "execution_count": 88,
   "metadata": {},
   "outputs": [
    {
     "data": {
      "image/png": "[encoded data removed]",
      "text/plain": [
       "<Figure size 720x360 with 1 Axes>"
      ]
     },
     "metadata": {
      "needs_background": "light"
     },
     "output_type": "display_data"
    }
   ],
   "source": [
    "Test_no=1\n",
    "Bearing_no=3\n",
    "\n",
    "test_2 = pd.read_csv(\"Time_feature_matrix_Bearing_{}_Test_{}.csv\".format(Bearing_no,Test_no),index_col='Unnamed: 0')\n",
    "y_pred_test_2 = xgb_model.predict(test_2)\n",
    "test_2['fault'] = y_pred_test_2\n",
    "test_2.index = pd.to_datetime(test_2.index)\n",
    "\n",
    "norm = test_2[test_2['fault']==0]\n",
    "Out_rac = test_2[test_2['fault']==1]\n",
    "iner_rac = test_2[test_2['fault']==2]\n",
    "roll_elem = test_2[test_2['fault']==3]\n",
    "\n",
    "col='Max'                      # Change this value to any column name \n",
    "plt.figure(figsize=(10, 5))\n",
    "plt.scatter(norm.index,norm[col])\n",
    "plt.scatter(Out_rac.index,Out_rac[col])\n",
    "plt.scatter(iner_rac.index,iner_rac[col])\n",
    "plt.scatter(roll_elem.index,roll_elem[col])\n",
    "\n",
    "plt.legend(['Normal','Outer Race','Inner Race','Roller Element'])\n",
    "plt.title(col)\n",
    "plt.show()\n",
    "\n"
   ]
  },
  {
   "cell_type": "code",
   "execution_count": null,
   "metadata": {},
   "outputs": [],
   "source": []
  },
  {
   "cell_type": "code",
   "execution_count": null,
   "metadata": {},
   "outputs": [],
   "source": []
  },
  {
   "cell_type": "code",
   "execution_count": null,
   "metadata": {},
   "outputs": [],
   "source": []
  },
  {
   "cell_type": "code",
   "execution_count": null,
   "metadata": {},
   "outputs": [],
   "source": []
  },
  {
   "cell_type": "code",
   "execution_count": null,
   "metadata": {},
   "outputs": [],
   "source": []
  },
  {
   "cell_type": "code",
   "execution_count": null,
   "metadata": {},
   "outputs": [],
   "source": []
  },
  {
   "cell_type": "code",
   "execution_count": null,
   "metadata": {},
   "outputs": [],
   "source": []
  },
  {
   "cell_type": "code",
   "execution_count": null,
   "metadata": {},
   "outputs": [],
   "source": []
  }
 ],
 "metadata": {
  "kernelspec": {
   "display_name": "Python 3 (ipykernel)",
   "language": "python",
   "name": "python3"
  },
  "language_info": {
   "codemirror_mode": {
    "name": "ipython",
    "version": 3
   },
   "file_extension": ".py",
   "mimetype": "text/x-python",
   "name": "python",
   "nbconvert_exporter": "python",
   "pygments_lexer": "ipython3",
   "version": "3.9.7"
  },
  "varInspector": {
   "cols": {
    "lenName": 16,
    "lenType": 16,
    "lenVar": 40
   },
   "kernels_config": {
    "python": {
     "delete_cmd_postfix": "",
     "delete_cmd_prefix": "del ",
     "library": "var_list.py",
     "varRefreshCmd": "print(var_dic_list())"
    },
    "r": {
     "delete_cmd_postfix": ") ",
     "delete_cmd_prefix": "rm(",
     "library": "var_list.r",
     "varRefreshCmd": "cat(var_dic_list()) "
    }
   },
   "types_to_exclude": [
    "module",
    "function",
    "builtin_function_or_method",
    "instance",
    "_Feature"
   ],
   "window_display": false
  },
  "vscode": {
   "interpreter": {
    "hash": "fc71f03a404db6c24c6a5e89bdd02ab705eb6669a4d52b9750305989f7b5a2ec"
   }
  }
 },
 "nbformat": 4,
 "nbformat_minor": 4
}
